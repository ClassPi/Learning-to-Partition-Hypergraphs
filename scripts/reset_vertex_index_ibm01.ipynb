{
 "cells": [
  {
   "cell_type": "code",
   "execution_count": 16,
   "metadata": {},
   "outputs": [],
   "source": [
    "# 读取原始文件\n",
    "from hmac import new\n",
    "\n",
    "\n",
    "with open(\"../data/ISPD_benchmark/ibm01.hgr\", 'r') as file:\n",
    "    lines = file.readlines()\n",
    "\n",
    "# 初始化字典用于存储已经出现过的数字及其编号\n",
    "number_mapping = {}\n",
    "current_number = 1\n",
    "\n",
    "# 创建一个新的列表存储重写后的数据\n",
    "new_lines = []\n",
    "\n",
    "# 遍历文件中的每一行\n",
    "for line in lines[1:]:\n",
    "    # 拆分每一行的数字\n",
    "    numbers = line.split()\n",
    "\n",
    "    # 处理每个数字\n",
    "    new_numbers = []\n",
    "    for num in numbers:\n",
    "        num = int(num)  # 将数字转换为整数\n",
    "        if num not in number_mapping:\n",
    "            # 如果数字未出现过，则分配新的编号\n",
    "            number_mapping[num] = current_number\n",
    "            current_number += 1\n",
    "        \n",
    "        # 获取数字的重写编号\n",
    "        new_numbers.append(str(number_mapping[num]))\n",
    "\n",
    "    # 生成新的一行，包含重写后的数字\n",
    "    new_line = \" \".join(new_numbers) +\" \"+\"\\n\"\n",
    "    new_lines.append(new_line)\n",
    "\n"
   ]
  },
  {
   "cell_type": "code",
   "execution_count": 17,
   "metadata": {},
   "outputs": [],
   "source": [
    "line0 = f\"{len(new_lines)} {current_number - 1} \\n\"\n",
    "new_lines.insert(0, line0)"
   ]
  },
  {
   "cell_type": "code",
   "execution_count": 18,
   "metadata": {},
   "outputs": [
    {
     "name": "stdout",
     "output_type": "stream",
     "text": [
      "文件重写完成。\n"
     ]
    }
   ],
   "source": [
    "# 将重写后的数据写入新文件\n",
    "with open(\"../data/ISPD_benchmark/ibm01_new.hgr\", 'w') as file:\n",
    "    file.writelines(new_lines)\n",
    "\n",
    "print(\"文件重写完成。\")"
   ]
  }
 ],
 "metadata": {
  "kernelspec": {
   "display_name": "Python 3",
   "language": "python",
   "name": "python3"
  },
  "language_info": {
   "codemirror_mode": {
    "name": "ipython",
    "version": 3
   },
   "file_extension": ".py",
   "mimetype": "text/x-python",
   "name": "python",
   "nbconvert_exporter": "python",
   "pygments_lexer": "ipython3",
   "version": "3.10.14"
  }
 },
 "nbformat": 4,
 "nbformat_minor": 2
}
